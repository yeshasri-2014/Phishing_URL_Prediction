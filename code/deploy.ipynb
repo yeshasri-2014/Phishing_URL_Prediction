{
 "cells": [
  {
   "cell_type": "code",
   "execution_count": null,
   "metadata": {
    "scrolled": true
   },
   "outputs": [],
   "source": [
    "import pickle\n",
    "from flask import Flask, request,jsonify\n",
    "%run parseURL.ipynb\n",
    "\n",
    "app = Flask(__name__)\n",
    "\n",
    "#getting our trained model from a file we created earlier\n",
    "model = pickle.load(open(\"model.pkl\",\"rb\"))\n",
    "\n",
    "@app.route('/phishing', methods=['POST'])\n",
    "def predict():\n",
    "    #grabbing a set of data from the request's body\n",
    "    feature_array = request.get_json()\n",
    "    print(feature_array)\n",
    "    \n",
    "    URL=feature_array['url']\n",
    "\n",
    "    output_list=[]\n",
    "    output_list=generate_data_set(URL)\n",
    "    print(output_list)\n",
    "    \n",
    "    prediction=0\n",
    "    output=''\n",
    "    prediction = model.predict([output_list]).tolist()\n",
    "    print(prediction)\n",
    "    \n",
    "    if (prediction[0] == 1):\n",
    "        output=\"Phising\"\n",
    "    elif (prediction[0] == -1):\n",
    "        output=\"Not Phising\"\n",
    "        \n",
    "    #preparing a response object and storing the model's predictions\n",
    "    response = dict()\n",
    "    response['prediction'] = output\n",
    "    \n",
    "    print(response)\n",
    "    #sending our response object back as json\n",
    "    return jsonify(response)\n",
    "    #return jsonify(300)\n",
    "\n",
    "if __name__ == '__main__':\n",
    "    app.run(host='127.0.0.1')\n",
    "    \n",
    "\n",
    "# curl -XPOST --header \"Content-Type: application/json\" http://127.0.0.1:5000/phishing -d'{\"url\":\"http://192.185.110.172\"}'\n"
   ]
  }
 ],
 "metadata": {
  "kernelspec": {
   "display_name": "Python 3",
   "language": "python",
   "name": "python3"
  },
  "language_info": {
   "codemirror_mode": {
    "name": "ipython",
    "version": 3
   },
   "file_extension": ".py",
   "mimetype": "text/x-python",
   "name": "python",
   "nbconvert_exporter": "python",
   "pygments_lexer": "ipython3",
   "version": "3.6.4"
  }
 },
 "nbformat": 4,
 "nbformat_minor": 2
}
